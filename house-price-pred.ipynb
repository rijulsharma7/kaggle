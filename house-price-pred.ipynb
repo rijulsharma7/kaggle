{
 "cells": [
  {
   "cell_type": "code",
   "execution_count": 1,
   "id": "4b18004a",
   "metadata": {
    "_cell_guid": "a903e70c-7d8d-4b2b-ba37-959df5a67333",
    "_uuid": "932738c1-762d-4804-ba32-f576600caeff",
    "collapsed": false,
    "execution": {
     "iopub.execute_input": "2022-02-28T17:14:19.414961Z",
     "iopub.status.busy": "2022-02-28T17:14:19.413206Z",
     "iopub.status.idle": "2022-02-28T17:14:23.886300Z",
     "shell.execute_reply": "2022-02-28T17:14:23.885127Z",
     "shell.execute_reply.started": "2022-02-28T17:11:48.374131Z"
    },
    "jupyter": {
     "outputs_hidden": false
    },
    "papermill": {
     "duration": 4.547918,
     "end_time": "2022-02-28T17:14:23.886484",
     "exception": false,
     "start_time": "2022-02-28T17:14:19.338566",
     "status": "completed"
    },
    "tags": []
   },
   "outputs": [],
   "source": [
    "import cupy as np \n",
    "import cudf as pd\n",
    "from math import sqrt\n",
    "from scipy.stats import skew\n",
    "import matplotlib.pyplot as plt\n",
    "from sklearn.preprocessing import StandardScaler\n",
    "from sklearn.model_selection import train_test_split\n",
    "from sklearn.metrics import mean_absolute_error,mean_squared_error,r2_score\n",
    "import cuml\n",
    "from cuml import LinearRegression\n",
    "from sklearn import linear_model\n",
    "from sklearn import preprocessing"
   ]
  },
  {
   "cell_type": "code",
   "execution_count": 2,
   "id": "13762071",
   "metadata": {
    "_cell_guid": "af781d96-87c2-4697-981b-eb742cb5604a",
    "_uuid": "18ffeeab-ce99-493b-bf09-a22e6db666ae",
    "collapsed": false,
    "execution": {
     "iopub.execute_input": "2022-02-28T17:14:24.024686Z",
     "iopub.status.busy": "2022-02-28T17:14:24.023629Z",
     "iopub.status.idle": "2022-02-28T17:14:24.025927Z",
     "shell.execute_reply": "2022-02-28T17:14:24.026380Z",
     "shell.execute_reply.started": "2022-02-28T17:11:48.511750Z"
    },
    "jupyter": {
     "outputs_hidden": false
    },
    "papermill": {
     "duration": 0.073435,
     "end_time": "2022-02-28T17:14:24.026575",
     "exception": false,
     "start_time": "2022-02-28T17:14:23.953140",
     "status": "completed"
    },
    "tags": []
   },
   "outputs": [],
   "source": [
    "plt.style.use(style='fivethirtyeight')\n",
    "plt.rcParams['figure.figsize'] = (10, 6)"
   ]
  },
  {
   "cell_type": "markdown",
   "id": "910139ee",
   "metadata": {
    "_cell_guid": "564bc1c3-3f48-472c-8c25-f1671f5a012a",
    "_uuid": "860f904d-8bf6-4423-8991-40c0af74002c",
    "papermill": {
     "duration": 0.068194,
     "end_time": "2022-02-28T17:14:24.160037",
     "exception": false,
     "start_time": "2022-02-28T17:14:24.091843",
     "status": "completed"
    },
    "tags": []
   },
   "source": [
    "**Exploratory Data Analysis**"
   ]
  },
  {
   "cell_type": "markdown",
   "id": "d734aff4",
   "metadata": {
    "_cell_guid": "f245489e-95ed-4b6e-86ca-122e7df225ae",
    "_uuid": "cef59df4-df8a-427a-a4e0-8ecd14d6642b",
    "papermill": {
     "duration": 0.065731,
     "end_time": "2022-02-28T17:14:24.291042",
     "exception": false,
     "start_time": "2022-02-28T17:14:24.225311",
     "status": "completed"
    },
    "tags": []
   },
   "source": [
    "In this initial investigations on data will be performed to to develop an understanding of the data, discover patterns and spot anomalies."
   ]
  },
  {
   "cell_type": "code",
   "execution_count": 3,
   "id": "e2eda0f7",
   "metadata": {
    "_cell_guid": "fb40d596-3b0e-4b8e-8f4b-310d6a146925",
    "_uuid": "333adf3b-1bb3-4bfe-8e99-46ebe9138eb8",
    "collapsed": false,
    "execution": {
     "iopub.execute_input": "2022-02-28T17:14:24.429033Z",
     "iopub.status.busy": "2022-02-28T17:14:24.428338Z",
     "iopub.status.idle": "2022-02-28T17:14:28.490117Z",
     "shell.execute_reply": "2022-02-28T17:14:28.489505Z",
     "shell.execute_reply.started": "2022-02-28T17:11:48.519041Z"
    },
    "jupyter": {
     "outputs_hidden": false
    },
    "papermill": {
     "duration": 4.133658,
     "end_time": "2022-02-28T17:14:28.490283",
     "exception": false,
     "start_time": "2022-02-28T17:14:24.356625",
     "status": "completed"
    },
    "tags": []
   },
   "outputs": [],
   "source": [
    "# load the datasets into dataframe\n",
    "train = pd.read_csv('../input/house-prices-advanced-regression-techniques/train.csv',error_bad_lines=False)\n",
    "test = pd.read_csv('../input/house-prices-advanced-regression-techniques/test.csv',error_bad_lines=False)"
   ]
  },
  {
   "cell_type": "code",
   "execution_count": 4,
   "id": "d20e2cb4",
   "metadata": {
    "_cell_guid": "4499996d-fd53-4ad0-a612-7c96c71f89ef",
    "_uuid": "e736364f-4f7b-4864-af25-0c82d08cffdd",
    "collapsed": false,
    "execution": {
     "iopub.execute_input": "2022-02-28T17:14:28.635915Z",
     "iopub.status.busy": "2022-02-28T17:14:28.626118Z",
     "iopub.status.idle": "2022-02-28T17:14:28.921772Z",
     "shell.execute_reply": "2022-02-28T17:14:28.922674Z",
     "shell.execute_reply.started": "2022-02-28T17:11:48.595047Z"
    },
    "jupyter": {
     "outputs_hidden": false
    },
    "papermill": {
     "duration": 0.365668,
     "end_time": "2022-02-28T17:14:28.922883",
     "exception": false,
     "start_time": "2022-02-28T17:14:28.557215",
     "status": "completed"
    },
    "tags": []
   },
   "outputs": [
    {
     "data": {
      "text/html": [
       "<div>\n",
       "<style scoped>\n",
       "    .dataframe tbody tr th:only-of-type {\n",
       "        vertical-align: middle;\n",
       "    }\n",
       "\n",
       "    .dataframe tbody tr th {\n",
       "        vertical-align: top;\n",
       "    }\n",
       "\n",
       "    .dataframe thead th {\n",
       "        text-align: right;\n",
       "    }\n",
       "</style>\n",
       "<table border=\"1\" class=\"dataframe\">\n",
       "  <thead>\n",
       "    <tr style=\"text-align: right;\">\n",
       "      <th></th>\n",
       "      <th>Id</th>\n",
       "      <th>MSSubClass</th>\n",
       "      <th>MSZoning</th>\n",
       "      <th>LotFrontage</th>\n",
       "      <th>LotArea</th>\n",
       "      <th>Street</th>\n",
       "      <th>Alley</th>\n",
       "      <th>LotShape</th>\n",
       "      <th>LandContour</th>\n",
       "      <th>Utilities</th>\n",
       "      <th>...</th>\n",
       "      <th>PoolArea</th>\n",
       "      <th>PoolQC</th>\n",
       "      <th>Fence</th>\n",
       "      <th>MiscFeature</th>\n",
       "      <th>MiscVal</th>\n",
       "      <th>MoSold</th>\n",
       "      <th>YrSold</th>\n",
       "      <th>SaleType</th>\n",
       "      <th>SaleCondition</th>\n",
       "      <th>SalePrice</th>\n",
       "    </tr>\n",
       "  </thead>\n",
       "  <tbody>\n",
       "    <tr>\n",
       "      <th>0</th>\n",
       "      <td>1</td>\n",
       "      <td>60</td>\n",
       "      <td>RL</td>\n",
       "      <td>65.0</td>\n",
       "      <td>8450</td>\n",
       "      <td>Pave</td>\n",
       "      <td>&lt;NA&gt;</td>\n",
       "      <td>Reg</td>\n",
       "      <td>Lvl</td>\n",
       "      <td>AllPub</td>\n",
       "      <td>...</td>\n",
       "      <td>0</td>\n",
       "      <td>&lt;NA&gt;</td>\n",
       "      <td>&lt;NA&gt;</td>\n",
       "      <td>&lt;NA&gt;</td>\n",
       "      <td>0</td>\n",
       "      <td>2</td>\n",
       "      <td>2008</td>\n",
       "      <td>WD</td>\n",
       "      <td>Normal</td>\n",
       "      <td>208500</td>\n",
       "    </tr>\n",
       "    <tr>\n",
       "      <th>1</th>\n",
       "      <td>2</td>\n",
       "      <td>20</td>\n",
       "      <td>RL</td>\n",
       "      <td>80.0</td>\n",
       "      <td>9600</td>\n",
       "      <td>Pave</td>\n",
       "      <td>&lt;NA&gt;</td>\n",
       "      <td>Reg</td>\n",
       "      <td>Lvl</td>\n",
       "      <td>AllPub</td>\n",
       "      <td>...</td>\n",
       "      <td>0</td>\n",
       "      <td>&lt;NA&gt;</td>\n",
       "      <td>&lt;NA&gt;</td>\n",
       "      <td>&lt;NA&gt;</td>\n",
       "      <td>0</td>\n",
       "      <td>5</td>\n",
       "      <td>2007</td>\n",
       "      <td>WD</td>\n",
       "      <td>Normal</td>\n",
       "      <td>181500</td>\n",
       "    </tr>\n",
       "    <tr>\n",
       "      <th>2</th>\n",
       "      <td>3</td>\n",
       "      <td>60</td>\n",
       "      <td>RL</td>\n",
       "      <td>68.0</td>\n",
       "      <td>11250</td>\n",
       "      <td>Pave</td>\n",
       "      <td>&lt;NA&gt;</td>\n",
       "      <td>IR1</td>\n",
       "      <td>Lvl</td>\n",
       "      <td>AllPub</td>\n",
       "      <td>...</td>\n",
       "      <td>0</td>\n",
       "      <td>&lt;NA&gt;</td>\n",
       "      <td>&lt;NA&gt;</td>\n",
       "      <td>&lt;NA&gt;</td>\n",
       "      <td>0</td>\n",
       "      <td>9</td>\n",
       "      <td>2008</td>\n",
       "      <td>WD</td>\n",
       "      <td>Normal</td>\n",
       "      <td>223500</td>\n",
       "    </tr>\n",
       "    <tr>\n",
       "      <th>3</th>\n",
       "      <td>4</td>\n",
       "      <td>70</td>\n",
       "      <td>RL</td>\n",
       "      <td>60.0</td>\n",
       "      <td>9550</td>\n",
       "      <td>Pave</td>\n",
       "      <td>&lt;NA&gt;</td>\n",
       "      <td>IR1</td>\n",
       "      <td>Lvl</td>\n",
       "      <td>AllPub</td>\n",
       "      <td>...</td>\n",
       "      <td>0</td>\n",
       "      <td>&lt;NA&gt;</td>\n",
       "      <td>&lt;NA&gt;</td>\n",
       "      <td>&lt;NA&gt;</td>\n",
       "      <td>0</td>\n",
       "      <td>2</td>\n",
       "      <td>2006</td>\n",
       "      <td>WD</td>\n",
       "      <td>Abnorml</td>\n",
       "      <td>140000</td>\n",
       "    </tr>\n",
       "    <tr>\n",
       "      <th>4</th>\n",
       "      <td>5</td>\n",
       "      <td>60</td>\n",
       "      <td>RL</td>\n",
       "      <td>84.0</td>\n",
       "      <td>14260</td>\n",
       "      <td>Pave</td>\n",
       "      <td>&lt;NA&gt;</td>\n",
       "      <td>IR1</td>\n",
       "      <td>Lvl</td>\n",
       "      <td>AllPub</td>\n",
       "      <td>...</td>\n",
       "      <td>0</td>\n",
       "      <td>&lt;NA&gt;</td>\n",
       "      <td>&lt;NA&gt;</td>\n",
       "      <td>&lt;NA&gt;</td>\n",
       "      <td>0</td>\n",
       "      <td>12</td>\n",
       "      <td>2008</td>\n",
       "      <td>WD</td>\n",
       "      <td>Normal</td>\n",
       "      <td>250000</td>\n",
       "    </tr>\n",
       "  </tbody>\n",
       "</table>\n",
       "<p>5 rows × 81 columns</p>\n",
       "</div>"
      ],
      "text/plain": [
       "   Id  MSSubClass MSZoning  LotFrontage  LotArea Street Alley LotShape  \\\n",
       "0   1          60       RL         65.0     8450   Pave  <NA>      Reg   \n",
       "1   2          20       RL         80.0     9600   Pave  <NA>      Reg   \n",
       "2   3          60       RL         68.0    11250   Pave  <NA>      IR1   \n",
       "3   4          70       RL         60.0     9550   Pave  <NA>      IR1   \n",
       "4   5          60       RL         84.0    14260   Pave  <NA>      IR1   \n",
       "\n",
       "  LandContour Utilities  ... PoolArea  PoolQC Fence MiscFeature MiscVal  \\\n",
       "0         Lvl    AllPub  ...        0    <NA>  <NA>        <NA>       0   \n",
       "1         Lvl    AllPub  ...        0    <NA>  <NA>        <NA>       0   \n",
       "2         Lvl    AllPub  ...        0    <NA>  <NA>        <NA>       0   \n",
       "3         Lvl    AllPub  ...        0    <NA>  <NA>        <NA>       0   \n",
       "4         Lvl    AllPub  ...        0    <NA>  <NA>        <NA>       0   \n",
       "\n",
       "   MoSold  YrSold  SaleType SaleCondition SalePrice  \n",
       "0       2    2008        WD        Normal    208500  \n",
       "1       5    2007        WD        Normal    181500  \n",
       "2       9    2008        WD        Normal    223500  \n",
       "3       2    2006        WD       Abnorml    140000  \n",
       "4      12    2008        WD        Normal    250000  \n",
       "\n",
       "[5 rows x 81 columns]"
      ]
     },
     "execution_count": 4,
     "metadata": {},
     "output_type": "execute_result"
    }
   ],
   "source": [
    "# show the first few records of train set\n",
    "train.head()"
   ]
  },
  {
   "cell_type": "code",
   "execution_count": 5,
   "id": "f45ef3cf",
   "metadata": {
    "_cell_guid": "a377d0f5-8a2a-4898-9ebb-df88cbffd560",
    "_uuid": "278d84fc-1926-4c6c-87fe-5b586647b010",
    "collapsed": false,
    "execution": {
     "iopub.execute_input": "2022-02-28T17:14:29.068985Z",
     "iopub.status.busy": "2022-02-28T17:14:29.068097Z",
     "iopub.status.idle": "2022-02-28T17:14:29.071544Z",
     "shell.execute_reply": "2022-02-28T17:14:29.072312Z",
     "shell.execute_reply.started": "2022-02-28T17:11:48.822787Z"
    },
    "jupyter": {
     "outputs_hidden": false
    },
    "papermill": {
     "duration": 0.077455,
     "end_time": "2022-02-28T17:14:29.072518",
     "exception": false,
     "start_time": "2022-02-28T17:14:28.995063",
     "status": "completed"
    },
    "tags": []
   },
   "outputs": [
    {
     "name": "stdout",
     "output_type": "stream",
     "text": [
      "No. of records in train dataset:  1460\n",
      "No. of columns in train dataset:  81\n",
      "No. of records in test dataset:  1459\n",
      "No. of columns in test dataset:  80\n"
     ]
    }
   ],
   "source": [
    "# check the number of records and columns in both of datasets\n",
    "print('No. of records in train dataset: ', len(train.index))\n",
    "print('No. of columns in train dataset: ', len(train.columns))\n",
    "print('No. of records in test dataset: ', len(test.index))\n",
    "print('No. of columns in test dataset: ', len(test.columns))"
   ]
  },
  {
   "cell_type": "code",
   "execution_count": 6,
   "id": "48e4e883",
   "metadata": {
    "_cell_guid": "8072845e-e7e1-43f5-815a-04b02a4b39f7",
    "_uuid": "db54d379-215d-4d1f-84d1-b8945a9f1e53",
    "collapsed": false,
    "execution": {
     "iopub.execute_input": "2022-02-28T17:14:29.214326Z",
     "iopub.status.busy": "2022-02-28T17:14:29.213107Z",
     "iopub.status.idle": "2022-02-28T17:14:29.454066Z",
     "shell.execute_reply": "2022-02-28T17:14:29.454518Z",
     "shell.execute_reply.started": "2022-02-28T17:11:48.832497Z"
    },
    "jupyter": {
     "outputs_hidden": false
    },
    "papermill": {
     "duration": 0.314072,
     "end_time": "2022-02-28T17:14:29.454727",
     "exception": false,
     "start_time": "2022-02-28T17:14:29.140655",
     "status": "completed"
    },
    "tags": []
   },
   "outputs": [
    {
     "name": "stdout",
     "output_type": "stream",
     "text": [
      "Total missing values in train set 6965\n",
      "Total missing values in test set 7000\n"
     ]
    }
   ],
   "source": [
    "# check the missing values\n",
    "print ('Total missing values in train set', sum(train.to_pandas().isna().sum()))\n",
    "print ('Total missing values in test set', sum(test.to_pandas().isna().sum()))"
   ]
  },
  {
   "cell_type": "code",
   "execution_count": 7,
   "id": "bde02b0a",
   "metadata": {
    "_cell_guid": "b9845b52-2955-4ee7-9e3c-9bb0d3fce26a",
    "_uuid": "33e9ca96-7b1c-48cd-833f-a47d4ff3f293",
    "collapsed": false,
    "execution": {
     "iopub.execute_input": "2022-02-28T17:14:29.596823Z",
     "iopub.status.busy": "2022-02-28T17:14:29.596088Z",
     "iopub.status.idle": "2022-02-28T17:14:29.634018Z",
     "shell.execute_reply": "2022-02-28T17:14:29.634477Z",
     "shell.execute_reply.started": "2022-02-28T17:11:48.911332Z"
    },
    "jupyter": {
     "outputs_hidden": false
    },
    "papermill": {
     "duration": 0.110532,
     "end_time": "2022-02-28T17:14:29.634648",
     "exception": false,
     "start_time": "2022-02-28T17:14:29.524116",
     "status": "completed"
    },
    "tags": []
   },
   "outputs": [
    {
     "data": {
      "text/plain": [
       "count      1460.000000\n",
       "mean     180921.195890\n",
       "std       79442.502883\n",
       "min       34900.000000\n",
       "25%      129975.000000\n",
       "50%      163000.000000\n",
       "75%      214000.000000\n",
       "max      755000.000000\n",
       "Name: SalePrice, dtype: float64"
      ]
     },
     "execution_count": 7,
     "metadata": {},
     "output_type": "execute_result"
    }
   ],
   "source": [
    "train['SalePrice'].describe()"
   ]
  },
  {
   "cell_type": "markdown",
   "id": "5df35423",
   "metadata": {
    "_cell_guid": "6c1f3a3b-fe92-4bec-9f16-4c9ca0d51e8c",
    "_uuid": "2dee8602-7874-4c9b-86d8-3977f641aa7f",
    "papermill": {
     "duration": 0.066692,
     "end_time": "2022-02-28T17:14:29.770823",
     "exception": false,
     "start_time": "2022-02-28T17:14:29.704131",
     "status": "completed"
    },
    "tags": []
   },
   "source": [
    "The above line code shows that the average sale price of a house is close to 180,000 with most of the values falling within the 130,000 to 215,000 range. Next step is to show the relationship between the columns to examine the correlations between the features and the target."
   ]
  },
  {
   "cell_type": "code",
   "execution_count": 8,
   "id": "1afeb21b",
   "metadata": {
    "_cell_guid": "ed8d5e73-b202-4b49-983e-4776b1968646",
    "_uuid": "fcc98a8a-06ca-456d-a54e-c0f8bd85d0aa",
    "collapsed": false,
    "execution": {
     "iopub.execute_input": "2022-02-28T17:14:29.919194Z",
     "iopub.status.busy": "2022-02-28T17:14:29.918161Z",
     "iopub.status.idle": "2022-02-28T17:14:29.952611Z",
     "shell.execute_reply": "2022-02-28T17:14:29.953167Z",
     "shell.execute_reply.started": "2022-02-28T17:11:48.925705Z"
    },
    "jupyter": {
     "outputs_hidden": false
    },
    "papermill": {
     "duration": 0.114832,
     "end_time": "2022-02-28T17:14:29.953348",
     "exception": false,
     "start_time": "2022-02-28T17:14:29.838516",
     "status": "completed"
    },
    "tags": []
   },
   "outputs": [
    {
     "name": "stdout",
     "output_type": "stream",
     "text": [
      "The Most Correlated Features with SalePrice:\n",
      "SalePrice       1.000000\n",
      "OverallQual     0.790982\n",
      "GrLivArea       0.708624\n",
      "GarageCars      0.640409\n",
      "GarageArea      0.623431\n",
      "TotalBsmtSF     0.613581\n",
      "1stFlrSF        0.605852\n",
      "FullBath        0.560664\n",
      "TotRmsAbvGrd    0.533723\n",
      "YearBuilt       0.522897\n",
      "Name: SalePrice, dtype: float64 \n",
      "\n",
      "The Most Uncorrelated Features with SalePrice:\n",
      "YrSold          -0.028923\n",
      "OverallCond     -0.077856\n",
      "MSSubClass      -0.084284\n",
      "EnclosedPorch   -0.128578\n",
      "KitchenAbvGr    -0.135907\n",
      "Name: SalePrice, dtype: float64\n"
     ]
    },
    {
     "data": {
      "text/plain": [
       "(None, None)"
      ]
     },
     "execution_count": 8,
     "metadata": {},
     "output_type": "execute_result"
    }
   ],
   "source": [
    "numeric_cols = train.select_dtypes(include = [np.number])\n",
    "corr = numeric_cols.to_pandas().corr()\n",
    "print ('The Most Correlated Features with SalePrice:'), print (corr['SalePrice'].sort_values(ascending = False)[:10], '\\n')\n",
    "print ('The Most Uncorrelated Features with SalePrice:'), print (corr['SalePrice'].sort_values(ascending = False)[-5:])"
   ]
  },
  {
   "cell_type": "markdown",
   "id": "55370960",
   "metadata": {
    "_cell_guid": "de011086-939e-40b9-9270-fe2d27ca1af6",
    "_uuid": "08a1ff61-037e-4dee-9618-c6569b592412",
    "papermill": {
     "duration": 0.071487,
     "end_time": "2022-02-28T17:14:30.096836",
     "exception": false,
     "start_time": "2022-02-28T17:14:30.025349",
     "status": "completed"
    },
    "tags": []
   },
   "source": [
    "The most correlated features to sale price were the overall quality score (79%), above-ground living area (71%), garage area (64%), and number-of-car garage (62%). Next step is to plot each variable individually against SalePrice in a scatter plot to check outliers as outliers can affect the regression model by pulling the estimated regression line further away from the true population regression line."
   ]
  },
  {
   "cell_type": "code",
   "execution_count": 9,
   "id": "14f09a7c",
   "metadata": {
    "_cell_guid": "026eba91-fb18-4eb8-91b4-ee91adc23379",
    "_uuid": "274e8d8c-95b8-4d9a-b1be-7b498d0615f0",
    "collapsed": false,
    "execution": {
     "iopub.execute_input": "2022-02-28T17:14:30.238208Z",
     "iopub.status.busy": "2022-02-28T17:14:30.237236Z",
     "iopub.status.idle": "2022-02-28T17:14:30.527089Z",
     "shell.execute_reply": "2022-02-28T17:14:30.527606Z",
     "shell.execute_reply.started": "2022-02-28T17:11:48.963022Z"
    },
    "jupyter": {
     "outputs_hidden": false
    },
    "papermill": {
     "duration": 0.363658,
     "end_time": "2022-02-28T17:14:30.527799",
     "exception": false,
     "start_time": "2022-02-28T17:14:30.164141",
     "status": "completed"
    },
    "tags": []
   },
   "outputs": [
    {
     "data": {
      "text/plain": [
       "Text(0.5, 0, 'GrLivArea (Above grade \"ground\" living area square feet)')"
      ]
     },
     "execution_count": 9,
     "metadata": {},
     "output_type": "execute_result"
    },
    {
     "data": {
      "image/png": "[encoded data removed]",
      "text/plain": [
       "<Figure size 720x432 with 1 Axes>"
      ]
     },
     "metadata": {},
     "output_type": "display_data"
    }
   ],
   "source": [
    "plt.scatter(x = train['GrLivArea'].to_array(), y = train['SalePrice'].to_array())\n",
    "plt.ylabel('SalePrice')\n",
    "plt.xlabel('GrLivArea (Above grade \"ground\" living area square feet)')"
   ]
  },
  {
   "cell_type": "markdown",
   "id": "913a7a3d",
   "metadata": {
    "_cell_guid": "9d46e88d-6ea4-430e-bfeb-b9e8ed19404f",
    "_uuid": "1b484d1b-5e0a-4587-9ac7-f711d8b20598",
    "papermill": {
     "duration": 0.070253,
     "end_time": "2022-02-28T17:14:30.667010",
     "exception": false,
     "start_time": "2022-02-28T17:14:30.596757",
     "status": "completed"
    },
    "tags": []
   },
   "source": [
    "At first glance, there are increases in living area correspond to increases in price, with few outliers."
   ]
  },
  {
   "cell_type": "code",
   "execution_count": 10,
   "id": "4412176a",
   "metadata": {
    "_cell_guid": "598b2770-2f70-4824-bfdb-f058a7fade69",
    "_uuid": "f55eb5de-51ef-49ec-9e73-e938e4efdb19",
    "collapsed": false,
    "execution": {
     "iopub.execute_input": "2022-02-28T17:14:30.812975Z",
     "iopub.status.busy": "2022-02-28T17:14:30.812034Z",
     "iopub.status.idle": "2022-02-28T17:14:31.172467Z",
     "shell.execute_reply": "2022-02-28T17:14:31.173251Z",
     "shell.execute_reply.started": "2022-02-28T17:11:49.189487Z"
    },
    "jupyter": {
     "outputs_hidden": false
    },
    "papermill": {
     "duration": 0.43705,
     "end_time": "2022-02-28T17:14:31.173441",
     "exception": false,
     "start_time": "2022-02-28T17:14:30.736391",
     "status": "completed"
    },
    "tags": []
   },
   "outputs": [
    {
     "data": {
      "text/plain": [
       "Text(0.5, 0, 'GarageArea')"
      ]
     },
     "execution_count": 10,
     "metadata": {},
     "output_type": "execute_result"
    },
    {
     "data": {
      "image/png": "[encoded data removed]",
      "text/plain": [
       "<Figure size 720x432 with 1 Axes>"
      ]
     },
     "metadata": {},
     "output_type": "display_data"
    }
   ],
   "source": [
    "plt.scatter(x = train['GarageArea'].to_array(), y = train['SalePrice'].to_array())\n",
    "plt.ylabel('SalePrice')\n",
    "plt.xlabel('GarageArea')"
   ]
  },
  {
   "cell_type": "markdown",
   "id": "42d9ee12",
   "metadata": {
    "_cell_guid": "eec8226b-41be-4f4b-9934-590e8fce334f",
    "_uuid": "8aac22d1-12a5-4770-931c-083b1165f6a0",
    "papermill": {
     "duration": 0.116895,
     "end_time": "2022-02-28T17:14:31.423750",
     "exception": false,
     "start_time": "2022-02-28T17:14:31.306855",
     "status": "completed"
    },
    "tags": []
   },
   "source": [
    "So there are many homes with 0 for GarageArea and there are a few outliers as well!"
   ]
  },
  {
   "cell_type": "markdown",
   "id": "6ef7623a",
   "metadata": {
    "_cell_guid": "abce2a41-f9c1-4fc1-aa41-5db70a85f943",
    "_uuid": "07565681-d5b9-4bbf-85cb-df19cb902850",
    "papermill": {
     "duration": 0.119899,
     "end_time": "2022-02-28T17:14:31.660163",
     "exception": false,
     "start_time": "2022-02-28T17:14:31.540264",
     "status": "completed"
    },
    "tags": []
   },
   "source": [
    "**Data Preprocessing**"
   ]
  },
  {
   "cell_type": "markdown",
   "id": "2c4278be",
   "metadata": {
    "_cell_guid": "939f551f-edf4-4f71-9ac3-2e0745f64e78",
    "_uuid": "f12566b0-f5c7-4ad8-ba35-b079baa38553",
    "papermill": {
     "duration": 0.073236,
     "end_time": "2022-02-28T17:14:31.804218",
     "exception": false,
     "start_time": "2022-02-28T17:14:31.730982",
     "status": "completed"
    },
    "tags": []
   },
   "source": [
    "In this section the data is prepared (transformed, encoded, etc) to make it suitable for a building and training machine learning model. I chose to manually remove certain extreme outliers in the dataset to produce a better fit."
   ]
  },
  {
   "cell_type": "code",
   "execution_count": 11,
   "id": "edce2df8",
   "metadata": {
    "_cell_guid": "3ff9bbc0-f367-45c4-8351-a109ae6de2e2",
    "_uuid": "cc6b03f9-e304-4cac-a022-3ee05c2fa096",
    "collapsed": false,
    "execution": {
     "iopub.execute_input": "2022-02-28T17:14:31.955471Z",
     "iopub.status.busy": "2022-02-28T17:14:31.954483Z",
     "iopub.status.idle": "2022-02-28T17:14:31.987522Z",
     "shell.execute_reply": "2022-02-28T17:14:31.986570Z",
     "shell.execute_reply.started": "2022-02-28T17:11:49.426031Z"
    },
    "jupyter": {
     "outputs_hidden": false
    },
    "papermill": {
     "duration": 0.110044,
     "end_time": "2022-02-28T17:14:31.987683",
     "exception": false,
     "start_time": "2022-02-28T17:14:31.877639",
     "status": "completed"
    },
    "tags": []
   },
   "outputs": [],
   "source": [
    "# remove GrLivArea outliers\n",
    "train = train[train['GrLivArea'] < 4500]"
   ]
  },
  {
   "cell_type": "code",
   "execution_count": 12,
   "id": "7cfd6b84",
   "metadata": {
    "_cell_guid": "35b852ba-baa9-4574-ad7c-065a196e99eb",
    "_uuid": "240a3250-22ca-413f-8b34-3d6c5e552823",
    "collapsed": false,
    "execution": {
     "iopub.execute_input": "2022-02-28T17:14:32.148054Z",
     "iopub.status.busy": "2022-02-28T17:14:32.146994Z",
     "iopub.status.idle": "2022-02-28T17:14:32.167721Z",
     "shell.execute_reply": "2022-02-28T17:14:32.167127Z",
     "shell.execute_reply.started": "2022-02-28T17:11:49.453266Z"
    },
    "jupyter": {
     "outputs_hidden": false
    },
    "papermill": {
     "duration": 0.108454,
     "end_time": "2022-02-28T17:14:32.167874",
     "exception": false,
     "start_time": "2022-02-28T17:14:32.059420",
     "status": "completed"
    },
    "tags": []
   },
   "outputs": [],
   "source": [
    "# remove GarageArea outliers\n",
    "train = train[train['GarageArea'] < 1200]"
   ]
  },
  {
   "cell_type": "code",
   "execution_count": 13,
   "id": "f851a991",
   "metadata": {
    "_cell_guid": "2a93f370-626a-4e18-b7f1-af33ffc168c2",
    "_uuid": "074d2c70-5feb-4921-b876-5d67a29fc20a",
    "collapsed": false,
    "execution": {
     "iopub.execute_input": "2022-02-28T17:14:32.324643Z",
     "iopub.status.busy": "2022-02-28T17:14:32.323586Z",
     "iopub.status.idle": "2022-02-28T17:14:32.385133Z",
     "shell.execute_reply": "2022-02-28T17:14:32.385845Z",
     "shell.execute_reply.started": "2022-02-28T17:11:49.481655Z"
    },
    "jupyter": {
     "outputs_hidden": false
    },
    "papermill": {
     "duration": 0.143408,
     "end_time": "2022-02-28T17:14:32.386049",
     "exception": false,
     "start_time": "2022-02-28T17:14:32.242641",
     "status": "completed"
    },
    "tags": []
   },
   "outputs": [
    {
     "name": "stdout",
     "output_type": "stream",
     "text": [
      "Alley          0.937414\n",
      "PoolQC         0.995873\n",
      "Fence          0.806740\n",
      "MiscFeature    0.963549\n",
      "dtype: float64\n"
     ]
    }
   ],
   "source": [
    "# drop columns with percentage of missing values > 80%\n",
    "train_percentage = train.isnull().sum() / train.shape[0]\n",
    "print (train_percentage[train_percentage > 0.80])\n",
    "index=train_percentage[train_percentage > 0.80].index\n",
    "#print(index)\n",
    "train = train.drop(index.to_array(), axis = 1)"
   ]
  },
  {
   "cell_type": "code",
   "execution_count": 14,
   "id": "9f72e3bb",
   "metadata": {
    "_cell_guid": "6c9b79d4-c928-4286-9211-1314a8aa29ec",
    "_uuid": "ba3d7f27-9fd1-4fef-847e-10c8cd598697",
    "collapsed": false,
    "execution": {
     "iopub.execute_input": "2022-02-28T17:14:32.538173Z",
     "iopub.status.busy": "2022-02-28T17:14:32.537094Z",
     "iopub.status.idle": "2022-02-28T17:14:32.589554Z",
     "shell.execute_reply": "2022-02-28T17:14:32.590239Z",
     "shell.execute_reply.started": "2022-02-28T17:11:49.535654Z"
    },
    "jupyter": {
     "outputs_hidden": false
    },
    "papermill": {
     "duration": 0.132913,
     "end_time": "2022-02-28T17:14:32.590451",
     "exception": false,
     "start_time": "2022-02-28T17:14:32.457538",
     "status": "completed"
    },
    "tags": []
   },
   "outputs": [
    {
     "name": "stdout",
     "output_type": "stream",
     "text": [
      "Alley          0.926662\n",
      "PoolQC         0.997944\n",
      "Fence          0.801234\n",
      "MiscFeature    0.965045\n",
      "dtype: float64\n"
     ]
    }
   ],
   "source": [
    "# do the same with test data\n",
    "test_percentage = test.isnull().sum() / test.shape[0]\n",
    "print (test_percentage[test_percentage > 0.80])\n",
    "test = test.drop(test_percentage[test_percentage > 0.80].index.to_array(), axis = 1)"
   ]
  },
  {
   "cell_type": "code",
   "execution_count": 15,
   "id": "77cf0d61",
   "metadata": {
    "_cell_guid": "43db2818-5611-499c-8006-ef550c41f483",
    "_uuid": "240533b3-5bd9-4b4f-8ea6-f2fc8d59349f",
    "collapsed": false,
    "execution": {
     "iopub.execute_input": "2022-02-28T17:14:32.753480Z",
     "iopub.status.busy": "2022-02-28T17:14:32.749819Z",
     "iopub.status.idle": "2022-02-28T17:14:32.829889Z",
     "shell.execute_reply": "2022-02-28T17:14:32.830357Z",
     "shell.execute_reply.started": "2022-02-28T17:11:49.589108Z"
    },
    "jupyter": {
     "outputs_hidden": false
    },
    "papermill": {
     "duration": 0.162023,
     "end_time": "2022-02-28T17:14:32.830537",
     "exception": false,
     "start_time": "2022-02-28T17:14:32.668514",
     "status": "completed"
    },
    "tags": []
   },
   "outputs": [],
   "source": [
    "# encode categorical variables\n",
    "le = preprocessing.LabelEncoder()\n",
    "train=train.to_pandas()\n",
    "for name in train.columns:\n",
    "    if train[name].dtypes == 'O':\n",
    "        train[name] = train[name].astype(str)\n",
    "        le.fit(train[name])\n",
    "        train[name] = le.transform(train[name])"
   ]
  },
  {
   "cell_type": "code",
   "execution_count": 16,
   "id": "0266a1b6",
   "metadata": {
    "_cell_guid": "6e7b7e28-e0c1-40ce-827e-2249d09ee4b8",
    "_uuid": "cee0516d-5b9e-464d-9fd4-0ff7004fac31",
    "collapsed": false,
    "execution": {
     "iopub.execute_input": "2022-02-28T17:14:32.985568Z",
     "iopub.status.busy": "2022-02-28T17:14:32.984931Z",
     "iopub.status.idle": "2022-02-28T17:14:33.065022Z",
     "shell.execute_reply": "2022-02-28T17:14:33.064020Z",
     "shell.execute_reply.started": "2022-02-28T17:11:49.666924Z"
    },
    "jupyter": {
     "outputs_hidden": false
    },
    "papermill": {
     "duration": 0.160211,
     "end_time": "2022-02-28T17:14:33.065196",
     "exception": false,
     "start_time": "2022-02-28T17:14:32.904985",
     "status": "completed"
    },
    "tags": []
   },
   "outputs": [],
   "source": [
    "# do the same for testset\n",
    "test=test.to_pandas()\n",
    "for name in test.columns:\n",
    "    if test[name].dtypes == 'O':\n",
    "        test[name] = test[name].astype(str)\n",
    "        le.fit(test[name])\n",
    "        test[name] = le.transform(test[name])"
   ]
  },
  {
   "cell_type": "markdown",
   "id": "e648c2d2",
   "metadata": {
    "_cell_guid": "7584b4cd-9b5f-4237-ae43-c49b9d289877",
    "_uuid": "dbc5d75d-1042-463d-8e08-9979ccdddefc",
    "papermill": {
     "duration": 0.071667,
     "end_time": "2022-02-28T17:14:33.209479",
     "exception": false,
     "start_time": "2022-02-28T17:14:33.137812",
     "status": "completed"
    },
    "tags": []
   },
   "source": [
    "There are many ways to handle NaN values, whether to fill with the mean or median, however strings cannot be averaged or median-ed. One way to fill missing values is to impute these missing values according to their probability of occuring in the dataset to avoid single-valued imputation that impacts the quality of inference and prediction."
   ]
  },
  {
   "cell_type": "code",
   "execution_count": 17,
   "id": "b24e8fc1",
   "metadata": {
    "_cell_guid": "8cacf7d3-b40c-4869-a104-83af424abfa1",
    "_uuid": "2a074f29-a82a-4c35-b5b3-6810c25b2ede",
    "collapsed": false,
    "execution": {
     "iopub.execute_input": "2022-02-28T17:14:33.369856Z",
     "iopub.status.busy": "2022-02-28T17:14:33.368657Z",
     "iopub.status.idle": "2022-02-28T17:14:39.960022Z",
     "shell.execute_reply": "2022-02-28T17:14:39.959141Z",
     "shell.execute_reply.started": "2022-02-28T17:11:49.744867Z"
    },
    "jupyter": {
     "outputs_hidden": false
    },
    "papermill": {
     "duration": 6.677351,
     "end_time": "2022-02-28T17:14:39.960166",
     "exception": false,
     "start_time": "2022-02-28T17:14:33.282815",
     "status": "completed"
    },
    "tags": []
   },
   "outputs": [],
   "source": [
    "# fill missing values based on probability of occurrence\n",
    "for column in train.columns:\n",
    "    null_vals = train.isnull().values\n",
    "    a, b = np.unique(train.values[~null_vals], return_counts = 1)\n",
    "    random_choice=np.random.choice(a, train[column].isnull().sum(), p = b / b.sum());\n",
    "    random_choice=np.asnumpy(random_choice)\n",
    "    cna=train[column].isna().to_numpy()\n",
    "    train.loc[cna, column] = random_choice"
   ]
  },
  {
   "cell_type": "code",
   "execution_count": 18,
   "id": "24477e4c",
   "metadata": {
    "_cell_guid": "df989958-5d00-46c2-bba1-f63e3cea36df",
    "_uuid": "9f020721-e261-4eac-9319-fd4c705ca327",
    "collapsed": false,
    "execution": {
     "iopub.execute_input": "2022-02-28T17:14:40.109897Z",
     "iopub.status.busy": "2022-02-28T17:14:40.108858Z",
     "iopub.status.idle": "2022-02-28T17:14:40.711755Z",
     "shell.execute_reply": "2022-02-28T17:14:40.710542Z",
     "shell.execute_reply.started": "2022-02-28T17:11:50.099818Z"
    },
    "jupyter": {
     "outputs_hidden": false
    },
    "papermill": {
     "duration": 0.67902,
     "end_time": "2022-02-28T17:14:40.711910",
     "exception": false,
     "start_time": "2022-02-28T17:14:40.032890",
     "status": "completed"
    },
    "tags": []
   },
   "outputs": [],
   "source": [
    "# apply log transformation to reduce skewness over .75 by taking log(feature + 1)\n",
    "skewed_train = train.apply(lambda x: skew(x.dropna()))\n",
    "skewed_train = skewed_train[skewed_train > .75]\n",
    "sti=skewed_train.index\n",
    "tsti=train[skewed_train.index]\n",
    "train[sti] = np.log1p(np.asarray(tsti.to_numpy()))"
   ]
  },
  {
   "cell_type": "code",
   "execution_count": 19,
   "id": "f162f9cf",
   "metadata": {
    "_cell_guid": "b57511af-df45-4dd9-ac6c-95abbeb51ca3",
    "_uuid": "f7e72693-1a30-494c-9162-827be3839f47",
    "collapsed": false,
    "execution": {
     "iopub.execute_input": "2022-02-28T17:14:40.861188Z",
     "iopub.status.busy": "2022-02-28T17:14:40.860159Z",
     "iopub.status.idle": "2022-02-28T17:14:40.994585Z",
     "shell.execute_reply": "2022-02-28T17:14:40.994093Z",
     "shell.execute_reply.started": "2022-02-28T17:11:50.232447Z"
    },
    "jupyter": {
     "outputs_hidden": false
    },
    "papermill": {
     "duration": 0.211317,
     "end_time": "2022-02-28T17:14:40.994753",
     "exception": false,
     "start_time": "2022-02-28T17:14:40.783436",
     "status": "completed"
    },
    "tags": []
   },
   "outputs": [],
   "source": [
    "# deal with the skewness in the test data\n",
    "skewed_test = test.apply(lambda x: skew(x.dropna()))\n",
    "skewed_test = skewed_test[skewed_test > .75]\n",
    "var_ti=test[skewed_test.index]\n",
    "ans=np.log1p(np.asarray(var_ti.to_numpy()))\n",
    "#print(type(ans))\n",
    "test[skewed_test.index] = ans"
   ]
  },
  {
   "cell_type": "markdown",
   "id": "83a7f642",
   "metadata": {
    "_cell_guid": "e5714f39-bc63-440d-9ac8-dcb67d3d08c7",
    "_uuid": "4cf02c74-b84e-42fe-8c03-9744f7ec79a8",
    "papermill": {
     "duration": 0.070467,
     "end_time": "2022-02-28T17:14:41.137385",
     "exception": false,
     "start_time": "2022-02-28T17:14:41.066918",
     "status": "completed"
    },
    "tags": []
   },
   "source": [
    "**Modelling**"
   ]
  },
  {
   "cell_type": "markdown",
   "id": "6ff3d215",
   "metadata": {
    "_cell_guid": "0d36ed01-615b-4020-8682-d9fbffbbca0f",
    "_uuid": "99f40bf0-b136-4bb4-beec-5e2a1797c234",
    "papermill": {
     "duration": 0.06987,
     "end_time": "2022-02-28T17:14:41.278493",
     "exception": false,
     "start_time": "2022-02-28T17:14:41.208623",
     "status": "completed"
    },
    "tags": []
   },
   "source": [
    "I will perform a simple linear regression on the dataset to predict house prices. In order to train out the regression model, we need to first split up the data into an X list that contains the features to train on, and a y list with the target variable, in this case, the Price column."
   ]
  },
  {
   "cell_type": "code",
   "execution_count": 20,
   "id": "7018f732",
   "metadata": {
    "_cell_guid": "9fa19d7b-4cea-4c91-a9d6-f723015e5aa4",
    "_uuid": "588d7771-2094-48f9-bf8d-41f10ba2c3ab",
    "collapsed": false,
    "execution": {
     "iopub.execute_input": "2022-02-28T17:14:41.432431Z",
     "iopub.status.busy": "2022-02-28T17:14:41.430533Z",
     "iopub.status.idle": "2022-02-28T17:14:41.435347Z",
     "shell.execute_reply": "2022-02-28T17:14:41.434620Z",
     "shell.execute_reply.started": "2022-02-28T17:11:50.567716Z"
    },
    "jupyter": {
     "outputs_hidden": false
    },
    "papermill": {
     "duration": 0.087305,
     "end_time": "2022-02-28T17:14:41.435521",
     "exception": false,
     "start_time": "2022-02-28T17:14:41.348216",
     "status": "completed"
    },
    "tags": []
   },
   "outputs": [],
   "source": [
    "X = train.drop(['SalePrice', 'Id'], axis = 1)\n",
    "y = train['SalePrice'].to_frame()\n",
    "y=y.to_numpy()\n",
    "y=y.reshape(-1,1)"
   ]
  },
  {
   "cell_type": "code",
   "execution_count": 21,
   "id": "51753a5f",
   "metadata": {
    "_cell_guid": "5fa66b4c-2fee-4be6-a544-235ab2f5b969",
    "_uuid": "4876153c-1877-4304-bc97-770ca978f582",
    "collapsed": false,
    "execution": {
     "iopub.execute_input": "2022-02-28T17:14:41.580692Z",
     "iopub.status.busy": "2022-02-28T17:14:41.579545Z",
     "iopub.status.idle": "2022-02-28T17:14:43.477767Z",
     "shell.execute_reply": "2022-02-28T17:14:43.477042Z",
     "shell.execute_reply.started": "2022-02-28T17:11:50.596703Z"
    },
    "jupyter": {
     "outputs_hidden": false
    },
    "papermill": {
     "duration": 1.972903,
     "end_time": "2022-02-28T17:14:43.477913",
     "exception": false,
     "start_time": "2022-02-28T17:14:41.505010",
     "status": "completed"
    },
    "tags": []
   },
   "outputs": [],
   "source": [
    "scaler=StandardScaler()\n",
    "X_scaled=scaler.fit_transform(X.to_numpy())"
   ]
  },
  {
   "cell_type": "code",
   "execution_count": 22,
   "id": "abb8b982",
   "metadata": {
    "_cell_guid": "54a064d4-0206-4913-be51-45f5f6a2b34d",
    "_uuid": "0a9d820b-6f00-42b2-9733-874d7d297fea",
    "collapsed": false,
    "execution": {
     "iopub.execute_input": "2022-02-28T17:14:43.633152Z",
     "iopub.status.busy": "2022-02-28T17:14:43.632470Z",
     "iopub.status.idle": "2022-02-28T17:14:43.637180Z",
     "shell.execute_reply": "2022-02-28T17:14:43.637619Z",
     "shell.execute_reply.started": "2022-02-28T17:11:52.490738Z"
    },
    "jupyter": {
     "outputs_hidden": false
    },
    "papermill": {
     "duration": 0.086434,
     "end_time": "2022-02-28T17:14:43.637824",
     "exception": false,
     "start_time": "2022-02-28T17:14:43.551390",
     "status": "completed"
    },
    "tags": []
   },
   "outputs": [
    {
     "data": {
      "text/plain": [
       "array([[ 0.4247723 , -0.04927459,  0.26569587, ...,  0.13862295,\n",
       "         0.31008211,  0.21179671],\n",
       "       [-1.12571581, -0.04927459,  0.41331235, ..., -0.61345827,\n",
       "         0.31008211,  0.21179671],\n",
       "       [ 0.4247723 , -0.04927459,  0.29773685, ...,  0.13862295,\n",
       "         0.31008211,  0.21179671],\n",
       "       ...,\n",
       "       [ 0.64550011, -0.04927459,  0.27653522, ...,  1.64278538,\n",
       "         0.31008211,  0.21179671],\n",
       "       [-1.12571581, -0.04927459,  0.29773685, ...,  1.64278538,\n",
       "         0.31008211,  0.21179671],\n",
       "       [-1.12571581, -0.04927459,  0.36738578, ...,  0.13862295,\n",
       "         0.31008211,  0.21179671]])"
      ]
     },
     "execution_count": 22,
     "metadata": {},
     "output_type": "execute_result"
    }
   ],
   "source": [
    "X_scaled"
   ]
  },
  {
   "cell_type": "code",
   "execution_count": 23,
   "id": "c12d9343",
   "metadata": {
    "_cell_guid": "782644c3-f8d3-45ad-a403-ef0413c45354",
    "_uuid": "4e561dcd-6d18-4a65-94a5-2b1bd978e6ec",
    "collapsed": false,
    "execution": {
     "iopub.execute_input": "2022-02-28T17:14:43.795443Z",
     "iopub.status.busy": "2022-02-28T17:14:43.794607Z",
     "iopub.status.idle": "2022-02-28T17:14:43.797946Z",
     "shell.execute_reply": "2022-02-28T17:14:43.797392Z",
     "shell.execute_reply.started": "2022-02-28T17:11:52.499148Z"
    },
    "jupyter": {
     "outputs_hidden": false
    },
    "papermill": {
     "duration": 0.084598,
     "end_time": "2022-02-28T17:14:43.798088",
     "exception": false,
     "start_time": "2022-02-28T17:14:43.713490",
     "status": "completed"
    },
    "tags": []
   },
   "outputs": [],
   "source": [
    "X_train, X_test, y_train, y_test = train_test_split(X_scaled, y, test_size=0.2, random_state=42)"
   ]
  },
  {
   "cell_type": "code",
   "execution_count": 24,
   "id": "030aa0cb",
   "metadata": {
    "_cell_guid": "a17495cf-3ade-4c15-8853-f8afb247959d",
    "_uuid": "d9a48d1f-9af0-4361-91c9-788b0f65963a",
    "collapsed": false,
    "execution": {
     "iopub.execute_input": "2022-02-28T17:14:43.955233Z",
     "iopub.status.busy": "2022-02-28T17:14:43.953462Z",
     "iopub.status.idle": "2022-02-28T17:14:43.958384Z",
     "shell.execute_reply": "2022-02-28T17:14:43.957588Z",
     "shell.execute_reply.started": "2022-02-28T17:11:52.514262Z"
    },
    "jupyter": {
     "outputs_hidden": false
    },
    "papermill": {
     "duration": 0.086012,
     "end_time": "2022-02-28T17:14:43.958577",
     "exception": false,
     "start_time": "2022-02-28T17:14:43.872565",
     "status": "completed"
    },
    "tags": []
   },
   "outputs": [
    {
     "name": "stdout",
     "output_type": "stream",
     "text": [
      "(1163, 75)\n",
      "(291, 75)\n",
      "(1163, 1)\n",
      "(291, 1)\n"
     ]
    }
   ],
   "source": [
    "print(X_train.shape)\n",
    "print(X_test.shape)\n",
    "print(y_train.shape)\n",
    "print(y_test.shape)"
   ]
  },
  {
   "cell_type": "code",
   "execution_count": 25,
   "id": "00b36d22",
   "metadata": {
    "_cell_guid": "86fd544f-fe1a-44ad-b4b7-b139a5ce93ba",
    "_uuid": "69401d82-a3e0-4ffd-9ede-227681a66ba6",
    "collapsed": false,
    "execution": {
     "iopub.execute_input": "2022-02-28T17:14:44.119415Z",
     "iopub.status.busy": "2022-02-28T17:14:44.118390Z",
     "iopub.status.idle": "2022-02-28T17:14:44.120513Z",
     "shell.execute_reply": "2022-02-28T17:14:44.120990Z",
     "shell.execute_reply.started": "2022-02-28T17:11:52.521807Z"
    },
    "jupyter": {
     "outputs_hidden": false
    },
    "papermill": {
     "duration": 0.082871,
     "end_time": "2022-02-28T17:14:44.121160",
     "exception": false,
     "start_time": "2022-02-28T17:14:44.038289",
     "status": "completed"
    },
    "tags": []
   },
   "outputs": [],
   "source": [
    "lr = LinearRegression(fit_intercept = True, normalize = False,\n",
    "                      algorithm = \"eig\")"
   ]
  },
  {
   "cell_type": "code",
   "execution_count": 26,
   "id": "5b25b8f7",
   "metadata": {
    "_cell_guid": "c7548a99-8137-42f0-80ac-8018e267b441",
    "_uuid": "29ae5a60-abcb-451f-8813-479ebf15c5ea",
    "collapsed": false,
    "execution": {
     "iopub.execute_input": "2022-02-28T17:14:44.277911Z",
     "iopub.status.busy": "2022-02-28T17:14:44.276986Z",
     "iopub.status.idle": "2022-02-28T17:14:47.819125Z",
     "shell.execute_reply": "2022-02-28T17:14:47.818440Z",
     "shell.execute_reply.started": "2022-02-28T17:11:52.528971Z"
    },
    "jupyter": {
     "outputs_hidden": false
    },
    "papermill": {
     "duration": 3.622806,
     "end_time": "2022-02-28T17:14:47.819304",
     "exception": false,
     "start_time": "2022-02-28T17:14:44.196498",
     "status": "completed"
    },
    "tags": []
   },
   "outputs": [],
   "source": [
    "reg = lr.fit(X_train,y_train)"
   ]
  },
  {
   "cell_type": "code",
   "execution_count": 27,
   "id": "303e31f1",
   "metadata": {
    "_cell_guid": "4faa2775-d7e3-49e6-9933-4c670bce77cc",
    "_uuid": "f2055c88-5cc6-4aa4-9e95-42785151a383",
    "collapsed": false,
    "execution": {
     "iopub.execute_input": "2022-02-28T17:14:47.992274Z",
     "iopub.status.busy": "2022-02-28T17:14:47.991255Z",
     "iopub.status.idle": "2022-02-28T17:14:48.002636Z",
     "shell.execute_reply": "2022-02-28T17:14:48.003410Z",
     "shell.execute_reply.started": "2022-02-28T17:11:52.784527Z"
    },
    "jupyter": {
     "outputs_hidden": false
    },
    "papermill": {
     "duration": 0.104247,
     "end_time": "2022-02-28T17:14:48.003627",
     "exception": false,
     "start_time": "2022-02-28T17:14:47.899380",
     "status": "completed"
    },
    "tags": []
   },
   "outputs": [],
   "source": [
    "# make predictions based on model\n",
    "preds = lr.predict(X_test)"
   ]
  },
  {
   "cell_type": "code",
   "execution_count": 28,
   "id": "f9317c7d",
   "metadata": {
    "_cell_guid": "8c59a94f-2d51-4f1e-aa12-1ea92d8db872",
    "_uuid": "5191747a-aa6f-4df1-b045-ec866d9d4179",
    "collapsed": false,
    "execution": {
     "iopub.execute_input": "2022-02-28T17:14:48.187194Z",
     "iopub.status.busy": "2022-02-28T17:14:48.186091Z",
     "iopub.status.idle": "2022-02-28T17:14:48.213351Z",
     "shell.execute_reply": "2022-02-28T17:14:48.212807Z",
     "shell.execute_reply.started": "2022-02-28T17:11:52.794314Z"
    },
    "jupyter": {
     "outputs_hidden": false
    },
    "papermill": {
     "duration": 0.11422,
     "end_time": "2022-02-28T17:14:48.213498",
     "exception": false,
     "start_time": "2022-02-28T17:14:48.099278",
     "status": "completed"
    },
    "tags": []
   },
   "outputs": [],
   "source": [
    "mse_e=mean_squared_error(y_test,preds)\n",
    "rs_e=r2_score(y_test,preds)\n",
    "mae_e=mean_absolute_error(y_test,preds)"
   ]
  },
  {
   "cell_type": "code",
   "execution_count": 29,
   "id": "44caa78f",
   "metadata": {
    "_cell_guid": "3cfa4dc1-a3d6-4264-8376-be58fb22dd67",
    "_uuid": "ee052e7d-1c57-4e97-87d9-f9a812275479",
    "collapsed": false,
    "execution": {
     "iopub.execute_input": "2022-02-28T17:14:48.392907Z",
     "iopub.status.busy": "2022-02-28T17:14:48.391510Z",
     "iopub.status.idle": "2022-02-28T17:14:48.684542Z",
     "shell.execute_reply": "2022-02-28T17:14:48.683811Z",
     "shell.execute_reply.started": "2022-02-28T17:11:52.824026Z"
    },
    "jupyter": {
     "outputs_hidden": false
    },
    "papermill": {
     "duration": 0.388105,
     "end_time": "2022-02-28T17:14:48.684763",
     "exception": false,
     "start_time": "2022-02-28T17:14:48.296658",
     "status": "completed"
    },
    "tags": []
   },
   "outputs": [
    {
     "data": {
      "text/plain": [
       "Text(0.5, 1.0, 'Linear Regression Model eig')"
      ]
     },
     "execution_count": 29,
     "metadata": {},
     "output_type": "execute_result"
    },
    {
     "data": {
      "image/png": "[encoded data removed]",
      "text/plain": [
       "<Figure size 720x432 with 1 Axes>"
      ]
     },
     "metadata": {},
     "output_type": "display_data"
    }
   ],
   "source": [
    "# alpha helps to show overlapping data\n",
    "plt.scatter(preds, y_test, alpha = 0.7, color = 'b')\n",
    "plt.xlabel('Predicted Price')\n",
    "plt.ylabel('Actual Price')\n",
    "plt.title('Linear Regression Model eig')"
   ]
  },
  {
   "cell_type": "code",
   "execution_count": 30,
   "id": "231f7f7d",
   "metadata": {
    "_cell_guid": "0a639141-9fc2-47ec-90f4-988df85399cf",
    "_uuid": "5f9fd36a-0b3f-4b1d-9b2c-76a5ba26faf8",
    "collapsed": false,
    "execution": {
     "iopub.execute_input": "2022-02-28T17:14:48.871761Z",
     "iopub.status.busy": "2022-02-28T17:14:48.871026Z",
     "iopub.status.idle": "2022-02-28T17:14:48.875010Z",
     "shell.execute_reply": "2022-02-28T17:14:48.875544Z",
     "shell.execute_reply.started": "2022-02-28T17:11:53.048459Z"
    },
    "jupyter": {
     "outputs_hidden": false
    },
    "papermill": {
     "duration": 0.095956,
     "end_time": "2022-02-28T17:14:48.875744",
     "exception": false,
     "start_time": "2022-02-28T17:14:48.779788",
     "status": "completed"
    },
    "tags": []
   },
   "outputs": [],
   "source": [
    "lrs=LinearRegression(fit_intercept = True, normalize = False,\n",
    "                      algorithm = \"svd\")"
   ]
  },
  {
   "cell_type": "code",
   "execution_count": 31,
   "id": "95356ca0",
   "metadata": {
    "_cell_guid": "ee063ad1-c2d0-4e75-911d-ea80575d95d7",
    "_uuid": "97dda2a3-04cb-4fa0-9a89-abcaff80c22d",
    "collapsed": false,
    "execution": {
     "iopub.execute_input": "2022-02-28T17:14:49.067562Z",
     "iopub.status.busy": "2022-02-28T17:14:49.059814Z",
     "iopub.status.idle": "2022-02-28T17:14:49.415410Z",
     "shell.execute_reply": "2022-02-28T17:14:49.414778Z",
     "shell.execute_reply.started": "2022-02-28T17:11:53.054549Z"
    },
    "jupyter": {
     "outputs_hidden": false
    },
    "papermill": {
     "duration": 0.454022,
     "end_time": "2022-02-28T17:14:49.415564",
     "exception": false,
     "start_time": "2022-02-28T17:14:48.961542",
     "status": "completed"
    },
    "tags": []
   },
   "outputs": [],
   "source": [
    "regs = lrs.fit(X_train,y_train)"
   ]
  },
  {
   "cell_type": "code",
   "execution_count": 32,
   "id": "4cdcc4bb",
   "metadata": {
    "_cell_guid": "3e354869-2c55-41a6-907f-233de55dca92",
    "_uuid": "e4d29b0e-cfff-4516-a6f9-87cdff62dd87",
    "collapsed": false,
    "execution": {
     "iopub.execute_input": "2022-02-28T17:14:49.595075Z",
     "iopub.status.busy": "2022-02-28T17:14:49.594014Z",
     "iopub.status.idle": "2022-02-28T17:14:49.598627Z",
     "shell.execute_reply": "2022-02-28T17:14:49.598058Z",
     "shell.execute_reply.started": "2022-02-28T17:11:53.404996Z"
    },
    "jupyter": {
     "outputs_hidden": false
    },
    "papermill": {
     "duration": 0.096033,
     "end_time": "2022-02-28T17:14:49.598838",
     "exception": false,
     "start_time": "2022-02-28T17:14:49.502805",
     "status": "completed"
    },
    "tags": []
   },
   "outputs": [],
   "source": [
    "predss = lrs.predict(X_test)"
   ]
  },
  {
   "cell_type": "code",
   "execution_count": 33,
   "id": "846443ba",
   "metadata": {
    "_cell_guid": "94d5d05f-eba2-4a31-82ca-8b7f7cee1ecf",
    "_uuid": "e18ce8f0-0ca5-4b65-91ac-b13094d11cda",
    "collapsed": false,
    "execution": {
     "iopub.execute_input": "2022-02-28T17:14:49.775725Z",
     "iopub.status.busy": "2022-02-28T17:14:49.774117Z",
     "iopub.status.idle": "2022-02-28T17:14:49.801398Z",
     "shell.execute_reply": "2022-02-28T17:14:49.800629Z",
     "shell.execute_reply.started": "2022-02-28T17:11:53.415847Z"
    },
    "jupyter": {
     "outputs_hidden": false
    },
    "papermill": {
     "duration": 0.11834,
     "end_time": "2022-02-28T17:14:49.801576",
     "exception": false,
     "start_time": "2022-02-28T17:14:49.683236",
     "status": "completed"
    },
    "tags": []
   },
   "outputs": [],
   "source": [
    "mse_s=mean_squared_error(y_test,predss)\n",
    "rs_s=r2_score(y_test,predss)\n",
    "mae_s=mean_absolute_error(y_test,predss)"
   ]
  },
  {
   "cell_type": "code",
   "execution_count": 34,
   "id": "f37e083b",
   "metadata": {
    "_cell_guid": "596f3c26-01ff-474d-a57b-924d58509b56",
    "_uuid": "feca2fe3-82d9-4fad-9b3f-c635ca3733d2",
    "collapsed": false,
    "execution": {
     "iopub.execute_input": "2022-02-28T17:14:49.982976Z",
     "iopub.status.busy": "2022-02-28T17:14:49.981879Z",
     "iopub.status.idle": "2022-02-28T17:14:50.269288Z",
     "shell.execute_reply": "2022-02-28T17:14:50.269835Z",
     "shell.execute_reply.started": "2022-02-28T17:11:53.452989Z"
    },
    "jupyter": {
     "outputs_hidden": false
    },
    "papermill": {
     "duration": 0.381076,
     "end_time": "2022-02-28T17:14:50.270035",
     "exception": false,
     "start_time": "2022-02-28T17:14:49.888959",
     "status": "completed"
    },
    "tags": []
   },
   "outputs": [
    {
     "data": {
      "text/plain": [
       "Text(0.5, 1.0, 'Linear Regression Model svd')"
      ]
     },
     "execution_count": 34,
     "metadata": {},
     "output_type": "execute_result"
    },
    {
     "data": {
      "image/png": "[encoded data removed]",
      "text/plain": [
       "<Figure size 720x432 with 1 Axes>"
      ]
     },
     "metadata": {},
     "output_type": "display_data"
    }
   ],
   "source": [
    "# alpha helps to show overlapping data\n",
    "plt.scatter(preds, y_test, alpha = 0.7, color = 'b')\n",
    "plt.xlabel('Predicted Price')\n",
    "plt.ylabel('Actual Price')\n",
    "plt.title('Linear Regression Model svd')"
   ]
  },
  {
   "cell_type": "code",
   "execution_count": 35,
   "id": "ea28cf05",
   "metadata": {
    "_cell_guid": "8b20cdfb-5385-4ec0-9698-74009d84f759",
    "_uuid": "b0831960-02b1-4a66-8828-e2f0a96de9d3",
    "collapsed": false,
    "execution": {
     "iopub.execute_input": "2022-02-28T17:14:50.448278Z",
     "iopub.status.busy": "2022-02-28T17:14:50.447215Z",
     "iopub.status.idle": "2022-02-28T17:14:50.452610Z",
     "shell.execute_reply": "2022-02-28T17:14:50.452088Z",
     "shell.execute_reply.started": "2022-02-28T17:11:53.773504Z"
    },
    "jupyter": {
     "outputs_hidden": false
    },
    "papermill": {
     "duration": 0.096277,
     "end_time": "2022-02-28T17:14:50.452771",
     "exception": false,
     "start_time": "2022-02-28T17:14:50.356494",
     "status": "completed"
    },
    "tags": []
   },
   "outputs": [],
   "source": [
    "lrsq=LinearRegression(fit_intercept = True, normalize = False,\n",
    "                      algorithm = \"qr\")"
   ]
  },
  {
   "cell_type": "code",
   "execution_count": 36,
   "id": "76f176a3",
   "metadata": {
    "_cell_guid": "cd464034-cc1d-44d1-886e-a615e9b155e5",
    "_uuid": "984d3e34-c7d5-4600-b213-8c941d57bd07",
    "collapsed": false,
    "execution": {
     "iopub.execute_input": "2022-02-28T17:14:50.622028Z",
     "iopub.status.busy": "2022-02-28T17:14:50.621141Z",
     "iopub.status.idle": "2022-02-28T17:14:50.893961Z",
     "shell.execute_reply": "2022-02-28T17:14:50.894500Z",
     "shell.execute_reply.started": "2022-02-28T17:11:53.779581Z"
    },
    "jupyter": {
     "outputs_hidden": false
    },
    "papermill": {
     "duration": 0.35642,
     "end_time": "2022-02-28T17:14:50.894690",
     "exception": false,
     "start_time": "2022-02-28T17:14:50.538270",
     "status": "completed"
    },
    "tags": []
   },
   "outputs": [],
   "source": [
    "regsq = lrsq.fit(X_train,y_train)"
   ]
  },
  {
   "cell_type": "code",
   "execution_count": 37,
   "id": "941573f3",
   "metadata": {
    "_cell_guid": "139e9989-50cc-4d8a-b90b-13a674f5aae8",
    "_uuid": "48673865-5bb3-4f0e-b698-d0601df0586d",
    "collapsed": false,
    "execution": {
     "iopub.execute_input": "2022-02-28T17:14:51.056751Z",
     "iopub.status.busy": "2022-02-28T17:14:51.055740Z",
     "iopub.status.idle": "2022-02-28T17:14:51.060847Z",
     "shell.execute_reply": "2022-02-28T17:14:51.060295Z",
     "shell.execute_reply.started": "2022-02-28T17:11:54.074029Z"
    },
    "jupyter": {
     "outputs_hidden": false
    },
    "papermill": {
     "duration": 0.089531,
     "end_time": "2022-02-28T17:14:51.061000",
     "exception": false,
     "start_time": "2022-02-28T17:14:50.971469",
     "status": "completed"
    },
    "tags": []
   },
   "outputs": [],
   "source": [
    "predsq = lrsq.predict(X_test)"
   ]
  },
  {
   "cell_type": "code",
   "execution_count": 38,
   "id": "650dc94f",
   "metadata": {
    "_cell_guid": "770598ab-65f7-44b2-b876-bb85b9a6fa67",
    "_uuid": "f82d328b-2ec8-4ab5-913d-7931c7f3423b",
    "collapsed": false,
    "execution": {
     "iopub.execute_input": "2022-02-28T17:14:51.228829Z",
     "iopub.status.busy": "2022-02-28T17:14:51.227885Z",
     "iopub.status.idle": "2022-02-28T17:14:51.249704Z",
     "shell.execute_reply": "2022-02-28T17:14:51.249108Z",
     "shell.execute_reply.started": "2022-02-28T17:11:54.083572Z"
    },
    "jupyter": {
     "outputs_hidden": false
    },
    "papermill": {
     "duration": 0.109384,
     "end_time": "2022-02-28T17:14:51.249876",
     "exception": false,
     "start_time": "2022-02-28T17:14:51.140492",
     "status": "completed"
    },
    "tags": []
   },
   "outputs": [],
   "source": [
    "mse_q=mean_squared_error(y_test,predsq)\n",
    "rs_q=r2_score(y_test,predsq)\n",
    "mae_q=mean_absolute_error(y_test,predsq)"
   ]
  },
  {
   "cell_type": "code",
   "execution_count": 39,
   "id": "ce051873",
   "metadata": {
    "_cell_guid": "5335255d-c4ac-4cce-a8fb-a3590ffa24a5",
    "_uuid": "547f0b40-37b1-42e3-8c06-8c0123f44fcf",
    "collapsed": false,
    "execution": {
     "iopub.execute_input": "2022-02-28T17:14:51.438710Z",
     "iopub.status.busy": "2022-02-28T17:14:51.414964Z",
     "iopub.status.idle": "2022-02-28T17:14:51.685901Z",
     "shell.execute_reply": "2022-02-28T17:14:51.686344Z",
     "shell.execute_reply.started": "2022-02-28T17:11:54.109178Z"
    },
    "jupyter": {
     "outputs_hidden": false
    },
    "papermill": {
     "duration": 0.356754,
     "end_time": "2022-02-28T17:14:51.686521",
     "exception": false,
     "start_time": "2022-02-28T17:14:51.329767",
     "status": "completed"
    },
    "tags": []
   },
   "outputs": [
    {
     "data": {
      "text/plain": [
       "Text(0.5, 1.0, 'Linear Regression Model qr')"
      ]
     },
     "execution_count": 39,
     "metadata": {},
     "output_type": "execute_result"
    },
    {
     "data": {
      "image/png": "[encoded data removed]",
      "text/plain": [
       "<Figure size 720x432 with 1 Axes>"
      ]
     },
     "metadata": {},
     "output_type": "display_data"
    }
   ],
   "source": [
    "# alpha helps to show overlapping data\n",
    "plt.scatter(preds, y_test, alpha = 0.7, color = 'b')\n",
    "plt.xlabel('Predicted Price')\n",
    "plt.ylabel('Actual Price')\n",
    "plt.title('Linear Regression Model qr')"
   ]
  },
  {
   "cell_type": "code",
   "execution_count": 40,
   "id": "bc7f1991",
   "metadata": {
    "_cell_guid": "3f227af0-8fa5-4d59-887b-af338aff4879",
    "_uuid": "c2f09dae-ecfc-43b9-ab29-c286cdee9bba",
    "collapsed": false,
    "execution": {
     "iopub.execute_input": "2022-02-28T17:14:51.854926Z",
     "iopub.status.busy": "2022-02-28T17:14:51.853823Z",
     "iopub.status.idle": "2022-02-28T17:14:51.855793Z",
     "shell.execute_reply": "2022-02-28T17:14:51.856369Z",
     "shell.execute_reply.started": "2022-02-28T17:11:54.336115Z"
    },
    "jupyter": {
     "outputs_hidden": false
    },
    "papermill": {
     "duration": 0.089082,
     "end_time": "2022-02-28T17:14:51.856541",
     "exception": false,
     "start_time": "2022-02-28T17:14:51.767459",
     "status": "completed"
    },
    "tags": []
   },
   "outputs": [],
   "source": [
    "lrssq=LinearRegression(fit_intercept = True, normalize = False,\n",
    "                      algorithm = \"svd-qr\")"
   ]
  },
  {
   "cell_type": "code",
   "execution_count": 41,
   "id": "dad3abc5",
   "metadata": {
    "_cell_guid": "547527a6-dd5a-480c-bb86-404685e0c327",
    "_uuid": "cdb37c04-4534-41a7-89b9-6f3e0425daff",
    "collapsed": false,
    "execution": {
     "iopub.execute_input": "2022-02-28T17:14:52.027650Z",
     "iopub.status.busy": "2022-02-28T17:14:52.026599Z",
     "iopub.status.idle": "2022-02-28T17:14:52.313962Z",
     "shell.execute_reply": "2022-02-28T17:14:52.313359Z",
     "shell.execute_reply.started": "2022-02-28T17:11:54.342083Z"
    },
    "jupyter": {
     "outputs_hidden": false
    },
    "papermill": {
     "duration": 0.376072,
     "end_time": "2022-02-28T17:14:52.314115",
     "exception": false,
     "start_time": "2022-02-28T17:14:51.938043",
     "status": "completed"
    },
    "tags": []
   },
   "outputs": [],
   "source": [
    "regssq = lrssq.fit(X_train,y_train)"
   ]
  },
  {
   "cell_type": "code",
   "execution_count": 42,
   "id": "224c981b",
   "metadata": {
    "_cell_guid": "9a2f574b-b75d-45e3-bacf-e9add4fbbad3",
    "_uuid": "49cc69e5-5eec-4f32-97d1-04f804277a99",
    "collapsed": false,
    "execution": {
     "iopub.execute_input": "2022-02-28T17:14:52.481530Z",
     "iopub.status.busy": "2022-02-28T17:14:52.480625Z",
     "iopub.status.idle": "2022-02-28T17:14:52.484753Z",
     "shell.execute_reply": "2022-02-28T17:14:52.484258Z",
     "shell.execute_reply.started": "2022-02-28T17:11:54.604899Z"
    },
    "jupyter": {
     "outputs_hidden": false
    },
    "papermill": {
     "duration": 0.089449,
     "end_time": "2022-02-28T17:14:52.484887",
     "exception": false,
     "start_time": "2022-02-28T17:14:52.395438",
     "status": "completed"
    },
    "tags": []
   },
   "outputs": [],
   "source": [
    "predssq = lrssq.predict(X_test)"
   ]
  },
  {
   "cell_type": "code",
   "execution_count": 43,
   "id": "be79f77d",
   "metadata": {
    "_cell_guid": "cf5845e6-f5d5-4dfe-96b6-5b6b356b2a7a",
    "_uuid": "8acedf1a-192a-49e7-a1b8-5056528fe2f1",
    "collapsed": false,
    "execution": {
     "iopub.execute_input": "2022-02-28T17:14:52.649440Z",
     "iopub.status.busy": "2022-02-28T17:14:52.648730Z",
     "iopub.status.idle": "2022-02-28T17:14:52.674226Z",
     "shell.execute_reply": "2022-02-28T17:14:52.673521Z",
     "shell.execute_reply.started": "2022-02-28T17:11:54.613492Z"
    },
    "jupyter": {
     "outputs_hidden": false
    },
    "papermill": {
     "duration": 0.109095,
     "end_time": "2022-02-28T17:14:52.674368",
     "exception": false,
     "start_time": "2022-02-28T17:14:52.565273",
     "status": "completed"
    },
    "tags": []
   },
   "outputs": [],
   "source": [
    "mse_sq=mean_squared_error(y_test,predssq)\n",
    "rs_sq=r2_score(y_test,predssq)\n",
    "mae_sq=mean_absolute_error(y_test,predssq)"
   ]
  },
  {
   "cell_type": "code",
   "execution_count": 44,
   "id": "5d7c97f8",
   "metadata": {
    "_cell_guid": "f654f19d-7b78-4409-97e5-2a9103a13931",
    "_uuid": "903c593f-fc06-467c-96ad-d61aafe15d09",
    "collapsed": false,
    "execution": {
     "iopub.execute_input": "2022-02-28T17:14:52.861843Z",
     "iopub.status.busy": "2022-02-28T17:14:52.859484Z",
     "iopub.status.idle": "2022-02-28T17:14:53.211615Z",
     "shell.execute_reply": "2022-02-28T17:14:53.213128Z",
     "shell.execute_reply.started": "2022-02-28T17:11:54.643477Z"
    },
    "jupyter": {
     "outputs_hidden": false
    },
    "papermill": {
     "duration": 0.458796,
     "end_time": "2022-02-28T17:14:53.213509",
     "exception": false,
     "start_time": "2022-02-28T17:14:52.754713",
     "status": "completed"
    },
    "tags": []
   },
   "outputs": [
    {
     "data": {
      "text/plain": [
       "Text(0.5, 1.0, 'Linear Regression Model svd-qr')"
      ]
     },
     "execution_count": 44,
     "metadata": {},
     "output_type": "execute_result"
    },
    {
     "data": {
      "image/png": "[encoded data removed]",
      "text/plain": [
       "<Figure size 720x432 with 1 Axes>"
      ]
     },
     "metadata": {},
     "output_type": "display_data"
    }
   ],
   "source": [
    "# alpha helps to show overlapping data\n",
    "plt.scatter(preds, y_test, alpha = 0.7, color = 'b')\n",
    "plt.xlabel('Predicted Price')\n",
    "plt.ylabel('Actual Price')\n",
    "plt.title('Linear Regression Model svd-qr')"
   ]
  },
  {
   "cell_type": "code",
   "execution_count": 45,
   "id": "5048403c",
   "metadata": {
    "_cell_guid": "731f5d3d-9859-4563-a1e8-a6bbff2286bb",
    "_uuid": "c14baa9a-d97e-42e3-8cd9-ab6eaac8bfab",
    "collapsed": false,
    "execution": {
     "iopub.execute_input": "2022-02-28T17:14:53.528005Z",
     "iopub.status.busy": "2022-02-28T17:14:53.526833Z",
     "iopub.status.idle": "2022-02-28T17:14:53.529538Z",
     "shell.execute_reply": "2022-02-28T17:14:53.528801Z",
     "shell.execute_reply.started": "2022-02-28T17:11:54.873178Z"
    },
    "jupyter": {
     "outputs_hidden": false
    },
    "papermill": {
     "duration": 0.152585,
     "end_time": "2022-02-28T17:14:53.529733",
     "exception": false,
     "start_time": "2022-02-28T17:14:53.377148",
     "status": "completed"
    },
    "tags": []
   },
   "outputs": [],
   "source": [
    "lrssj=LinearRegression(fit_intercept = True, normalize = False,\n",
    "                      algorithm = \"svd-jacobi\")"
   ]
  },
  {
   "cell_type": "code",
   "execution_count": 46,
   "id": "f27113a6",
   "metadata": {
    "_cell_guid": "e90c68db-1d54-4799-8419-90a4c7cdb711",
    "_uuid": "b0b774bf-3410-42d8-aa36-156bc4cb6b20",
    "collapsed": false,
    "execution": {
     "iopub.execute_input": "2022-02-28T17:14:53.753112Z",
     "iopub.status.busy": "2022-02-28T17:14:53.752033Z",
     "iopub.status.idle": "2022-02-28T17:14:54.011175Z",
     "shell.execute_reply": "2022-02-28T17:14:54.010595Z",
     "shell.execute_reply.started": "2022-02-28T17:11:54.879415Z"
    },
    "jupyter": {
     "outputs_hidden": false
    },
    "papermill": {
     "duration": 0.349442,
     "end_time": "2022-02-28T17:14:54.011322",
     "exception": false,
     "start_time": "2022-02-28T17:14:53.661880",
     "status": "completed"
    },
    "tags": []
   },
   "outputs": [],
   "source": [
    "regssj = lrssj.fit(X_train,y_train)"
   ]
  },
  {
   "cell_type": "code",
   "execution_count": 47,
   "id": "a96fe098",
   "metadata": {
    "_cell_guid": "0368116e-b6cd-40e5-9710-14f9a7ba76a9",
    "_uuid": "dcf4ffb2-9a1c-4a95-bab3-e2b90de19e7c",
    "collapsed": false,
    "execution": {
     "iopub.execute_input": "2022-02-28T17:14:54.177123Z",
     "iopub.status.busy": "2022-02-28T17:14:54.175910Z",
     "iopub.status.idle": "2022-02-28T17:14:54.180531Z",
     "shell.execute_reply": "2022-02-28T17:14:54.179983Z",
     "shell.execute_reply.started": "2022-02-28T17:11:55.136790Z"
    },
    "jupyter": {
     "outputs_hidden": false
    },
    "papermill": {
     "duration": 0.089271,
     "end_time": "2022-02-28T17:14:54.180650",
     "exception": false,
     "start_time": "2022-02-28T17:14:54.091379",
     "status": "completed"
    },
    "tags": []
   },
   "outputs": [],
   "source": [
    "predssj = lrssj.predict(X_test)"
   ]
  },
  {
   "cell_type": "code",
   "execution_count": 48,
   "id": "b2999484",
   "metadata": {
    "_cell_guid": "3b095a29-ae76-4d62-b858-ae52c624b45a",
    "_uuid": "765184f0-1985-4be8-826a-f27ad710fc7a",
    "collapsed": false,
    "execution": {
     "iopub.execute_input": "2022-02-28T17:14:54.346385Z",
     "iopub.status.busy": "2022-02-28T17:14:54.345407Z",
     "iopub.status.idle": "2022-02-28T17:14:54.368616Z",
     "shell.execute_reply": "2022-02-28T17:14:54.368094Z",
     "shell.execute_reply.started": "2022-02-28T17:11:55.144298Z"
    },
    "jupyter": {
     "outputs_hidden": false
    },
    "papermill": {
     "duration": 0.107865,
     "end_time": "2022-02-28T17:14:54.368776",
     "exception": false,
     "start_time": "2022-02-28T17:14:54.260911",
     "status": "completed"
    },
    "tags": []
   },
   "outputs": [],
   "source": [
    "mse_sj=mean_squared_error(y_test,predssj)\n",
    "rs_sj=r2_score(y_test,predssj)\n",
    "mae_sj=mean_absolute_error(y_test,predssj)"
   ]
  },
  {
   "cell_type": "code",
   "execution_count": 49,
   "id": "5564f9df",
   "metadata": {
    "_cell_guid": "743aa013-494b-46ab-9074-658d61329634",
    "_uuid": "c3cfc658-c091-4283-822f-94d77275cdd4",
    "collapsed": false,
    "execution": {
     "iopub.execute_input": "2022-02-28T17:14:54.545507Z",
     "iopub.status.busy": "2022-02-28T17:14:54.544556Z",
     "iopub.status.idle": "2022-02-28T17:14:54.787567Z",
     "shell.execute_reply": "2022-02-28T17:14:54.787100Z",
     "shell.execute_reply.started": "2022-02-28T17:11:55.171061Z"
    },
    "jupyter": {
     "outputs_hidden": false
    },
    "papermill": {
     "duration": 0.339894,
     "end_time": "2022-02-28T17:14:54.787714",
     "exception": false,
     "start_time": "2022-02-28T17:14:54.447820",
     "status": "completed"
    },
    "tags": []
   },
   "outputs": [
    {
     "data": {
      "text/plain": [
       "Text(0.5, 1.0, 'Linear Regression Model svd-jacobi')"
      ]
     },
     "execution_count": 49,
     "metadata": {},
     "output_type": "execute_result"
    },
    {
     "data": {
      "image/png": "[encoded data removed]",
      "text/plain": [
       "<Figure size 720x432 with 1 Axes>"
      ]
     },
     "metadata": {},
     "output_type": "display_data"
    }
   ],
   "source": [
    "# alpha helps to show overlapping data\n",
    "plt.scatter(preds, y_test, alpha = 0.7, color = 'b')\n",
    "plt.xlabel('Predicted Price')\n",
    "plt.ylabel('Actual Price')\n",
    "plt.title('Linear Regression Model svd-jacobi')"
   ]
  },
  {
   "cell_type": "code",
   "execution_count": 50,
   "id": "a20a96b3",
   "metadata": {
    "_cell_guid": "69598af3-53f3-4c7f-b2d0-4450601fc0f8",
    "_uuid": "e03bddda-8ec4-4b29-96d2-1788edbe1cb3",
    "collapsed": false,
    "execution": {
     "iopub.execute_input": "2022-02-28T17:14:54.962654Z",
     "iopub.status.busy": "2022-02-28T17:14:54.961141Z",
     "iopub.status.idle": "2022-02-28T17:14:54.965894Z",
     "shell.execute_reply": "2022-02-28T17:14:54.965339Z",
     "shell.execute_reply.started": "2022-02-28T17:11:55.397037Z"
    },
    "jupyter": {
     "outputs_hidden": false
    },
    "papermill": {
     "duration": 0.095715,
     "end_time": "2022-02-28T17:14:54.966031",
     "exception": false,
     "start_time": "2022-02-28T17:14:54.870316",
     "status": "completed"
    },
    "tags": []
   },
   "outputs": [],
   "source": [
    "df = pd.DataFrame()\n",
    "df['key'] = ['eig','svd','qr','svd-qr','svd-jacobi']\n",
    "df['mse'] = [mse_e,mse_s,mse_q,mse_sq,mse_sj]\n",
    "df['r2s'] = [rs_e,rs_s,rs_q,rs_sq,rs_sj]\n",
    "df['mae'] = [mae_e,mae_s,mae_q,mae_sq,mae_sj]"
   ]
  },
  {
   "cell_type": "code",
   "execution_count": 51,
   "id": "c521f9c5",
   "metadata": {
    "_cell_guid": "10eb3eab-c05e-4688-8330-d8b87fb175d8",
    "_uuid": "ac7c7ae1-46b6-4a8c-9ef1-2abb74db3724",
    "collapsed": false,
    "execution": {
     "iopub.execute_input": "2022-02-28T17:14:55.139891Z",
     "iopub.status.busy": "2022-02-28T17:14:55.139163Z",
     "iopub.status.idle": "2022-02-28T17:14:55.156094Z",
     "shell.execute_reply": "2022-02-28T17:14:55.156580Z",
     "shell.execute_reply.started": "2022-02-28T17:11:55.406532Z"
    },
    "jupyter": {
     "outputs_hidden": false
    },
    "papermill": {
     "duration": 0.104305,
     "end_time": "2022-02-28T17:14:55.156794",
     "exception": false,
     "start_time": "2022-02-28T17:14:55.052489",
     "status": "completed"
    },
    "tags": []
   },
   "outputs": [
    {
     "data": {
      "text/html": [
       "<div>\n",
       "<style scoped>\n",
       "    .dataframe tbody tr th:only-of-type {\n",
       "        vertical-align: middle;\n",
       "    }\n",
       "\n",
       "    .dataframe tbody tr th {\n",
       "        vertical-align: top;\n",
       "    }\n",
       "\n",
       "    .dataframe thead th {\n",
       "        text-align: right;\n",
       "    }\n",
       "</style>\n",
       "<table border=\"1\" class=\"dataframe\">\n",
       "  <thead>\n",
       "    <tr style=\"text-align: right;\">\n",
       "      <th></th>\n",
       "      <th>key</th>\n",
       "      <th>mse</th>\n",
       "      <th>r2s</th>\n",
       "      <th>mae</th>\n",
       "    </tr>\n",
       "  </thead>\n",
       "  <tbody>\n",
       "    <tr>\n",
       "      <th>0</th>\n",
       "      <td>eig</td>\n",
       "      <td>0.016822</td>\n",
       "      <td>0.901953</td>\n",
       "      <td>0.087097</td>\n",
       "    </tr>\n",
       "    <tr>\n",
       "      <th>1</th>\n",
       "      <td>svd</td>\n",
       "      <td>0.016822</td>\n",
       "      <td>0.901953</td>\n",
       "      <td>0.087097</td>\n",
       "    </tr>\n",
       "    <tr>\n",
       "      <th>2</th>\n",
       "      <td>qr</td>\n",
       "      <td>0.016822</td>\n",
       "      <td>0.901953</td>\n",
       "      <td>0.087097</td>\n",
       "    </tr>\n",
       "    <tr>\n",
       "      <th>3</th>\n",
       "      <td>svd-qr</td>\n",
       "      <td>0.016822</td>\n",
       "      <td>0.901953</td>\n",
       "      <td>0.087097</td>\n",
       "    </tr>\n",
       "    <tr>\n",
       "      <th>4</th>\n",
       "      <td>svd-jacobi</td>\n",
       "      <td>0.016822</td>\n",
       "      <td>0.901953</td>\n",
       "      <td>0.087097</td>\n",
       "    </tr>\n",
       "  </tbody>\n",
       "</table>\n",
       "</div>"
      ],
      "text/plain": [
       "          key       mse       r2s       mae\n",
       "0         eig  0.016822  0.901953  0.087097\n",
       "1         svd  0.016822  0.901953  0.087097\n",
       "2          qr  0.016822  0.901953  0.087097\n",
       "3      svd-qr  0.016822  0.901953  0.087097\n",
       "4  svd-jacobi  0.016822  0.901953  0.087097"
      ]
     },
     "execution_count": 51,
     "metadata": {},
     "output_type": "execute_result"
    }
   ],
   "source": [
    "df"
   ]
  },
  {
   "cell_type": "markdown",
   "id": "1627a42b",
   "metadata": {
    "_cell_guid": "0e0d68e2-25e8-4246-9230-3b8cefc177c0",
    "_uuid": "db1f52e5-ca0b-40aa-b3d1-5b7da9e04c8e",
    "papermill": {
     "duration": 0.080124,
     "end_time": "2022-02-28T17:14:55.317916",
     "exception": false,
     "start_time": "2022-02-28T17:14:55.237792",
     "status": "completed"
    },
    "tags": []
   },
   "source": [
    "**Submission**"
   ]
  },
  {
   "cell_type": "code",
   "execution_count": 52,
   "id": "4c66ac18",
   "metadata": {
    "_cell_guid": "a9ceef28-d9f7-4aed-85eb-5a32ba1a6810",
    "_uuid": "ac664731-1225-41ef-8f42-32ad4a5764f1",
    "collapsed": false,
    "execution": {
     "iopub.execute_input": "2022-02-28T17:14:55.493240Z",
     "iopub.status.busy": "2022-02-28T17:14:55.491112Z",
     "iopub.status.idle": "2022-02-28T17:14:55.493952Z",
     "shell.execute_reply": "2022-02-28T17:14:55.494395Z",
     "shell.execute_reply.started": "2022-02-28T17:11:55.433468Z"
    },
    "jupyter": {
     "outputs_hidden": false
    },
    "papermill": {
     "duration": 0.09181,
     "end_time": "2022-02-28T17:14:55.494553",
     "exception": false,
     "start_time": "2022-02-28T17:14:55.402743",
     "status": "completed"
    },
    "tags": []
   },
   "outputs": [],
   "source": [
    "submission = pd.DataFrame()\n",
    "submission['Id'] = test['Id'].astype(int)"
   ]
  },
  {
   "cell_type": "code",
   "execution_count": 53,
   "id": "7215647f",
   "metadata": {
    "_cell_guid": "5166bdce-54e9-4bfd-b9b9-83d1b9cff4ad",
    "_uuid": "bace6c9a-d684-4adf-88cb-bb52b5712840",
    "collapsed": false,
    "execution": {
     "iopub.execute_input": "2022-02-28T17:14:55.666056Z",
     "iopub.status.busy": "2022-02-28T17:14:55.664374Z",
     "iopub.status.idle": "2022-02-28T17:14:55.670273Z",
     "shell.execute_reply": "2022-02-28T17:14:55.669742Z",
     "shell.execute_reply.started": "2022-02-28T17:11:55.441270Z"
    },
    "jupyter": {
     "outputs_hidden": false
    },
    "papermill": {
     "duration": 0.095047,
     "end_time": "2022-02-28T17:14:55.670408",
     "exception": false,
     "start_time": "2022-02-28T17:14:55.575361",
     "status": "completed"
    },
    "tags": []
   },
   "outputs": [],
   "source": [
    "temp = test.drop(['Id'], axis = 1).interpolate()"
   ]
  },
  {
   "cell_type": "code",
   "execution_count": 54,
   "id": "a5379c8a",
   "metadata": {
    "_cell_guid": "c20c1997-6925-422f-b9e4-e769279e2335",
    "_uuid": "4c8c1a4d-ff1a-4d2d-af8a-a9d30e3b99d4",
    "collapsed": false,
    "execution": {
     "iopub.execute_input": "2022-02-28T17:14:55.838822Z",
     "iopub.status.busy": "2022-02-28T17:14:55.837911Z",
     "iopub.status.idle": "2022-02-28T17:15:04.929897Z",
     "shell.execute_reply": "2022-02-28T17:15:04.928909Z",
     "shell.execute_reply.started": "2022-02-28T17:11:55.473336Z"
    },
    "jupyter": {
     "outputs_hidden": false
    },
    "papermill": {
     "duration": 9.178355,
     "end_time": "2022-02-28T17:15:04.930053",
     "exception": false,
     "start_time": "2022-02-28T17:14:55.751698",
     "status": "completed"
    },
    "tags": []
   },
   "outputs": [],
   "source": [
    "predictions = reg.predict(temp)"
   ]
  },
  {
   "cell_type": "code",
   "execution_count": 55,
   "id": "f6162bd6",
   "metadata": {
    "_cell_guid": "e235ce4a-bc48-450f-b6f9-d600db9601a5",
    "_uuid": "ccffc532-1c3c-42ba-97d0-aef014051a1a",
    "collapsed": false,
    "execution": {
     "iopub.execute_input": "2022-02-28T17:15:05.099168Z",
     "iopub.status.busy": "2022-02-28T17:15:05.098290Z",
     "iopub.status.idle": "2022-02-28T17:15:05.381877Z",
     "shell.execute_reply": "2022-02-28T17:15:05.381009Z",
     "shell.execute_reply.started": "2022-02-28T17:12:03.988796Z"
    },
    "jupyter": {
     "outputs_hidden": false
    },
    "papermill": {
     "duration": 0.370154,
     "end_time": "2022-02-28T17:15:05.382018",
     "exception": false,
     "start_time": "2022-02-28T17:15:05.011864",
     "status": "completed"
    },
    "tags": []
   },
   "outputs": [],
   "source": [
    "predictions = np.exp(np.asarray(predictions))\n",
    "submission['SalePrice'] = predictions"
   ]
  },
  {
   "cell_type": "code",
   "execution_count": 56,
   "id": "564e73ec",
   "metadata": {
    "_cell_guid": "a4b67ddc-f153-47ac-a522-9c63b6af3248",
    "_uuid": "3567b2a5-4f69-475c-8dbd-e04cd927ab54",
    "collapsed": false,
    "execution": {
     "iopub.execute_input": "2022-02-28T17:15:05.551990Z",
     "iopub.status.busy": "2022-02-28T17:15:05.551233Z",
     "iopub.status.idle": "2022-02-28T17:15:05.561648Z",
     "shell.execute_reply": "2022-02-28T17:15:05.561108Z",
     "shell.execute_reply.started": "2022-02-28T17:12:03.997074Z"
    },
    "jupyter": {
     "outputs_hidden": false
    },
    "papermill": {
     "duration": 0.099313,
     "end_time": "2022-02-28T17:15:05.561809",
     "exception": false,
     "start_time": "2022-02-28T17:15:05.462496",
     "status": "completed"
    },
    "tags": []
   },
   "outputs": [],
   "source": [
    "submission.to_csv('submission.csv', index = False)"
   ]
  }
 ],
 "metadata": {
  "kernelspec": {
   "display_name": "Python 3",
   "language": "python",
   "name": "python3"
  },
  "language_info": {
   "codemirror_mode": {
    "name": "ipython",
    "version": 3
   },
   "file_extension": ".py",
   "mimetype": "text/x-python",
   "name": "python",
   "nbconvert_exporter": "python",
   "pygments_lexer": "ipython3",
   "version": "3.7.12"
  },
  "papermill": {
   "default_parameters": {},
   "duration": 57.557512,
   "end_time": "2022-02-28T17:15:07.255790",
   "environment_variables": {},
   "exception": null,
   "input_path": "__notebook__.ipynb",
   "output_path": "__notebook__.ipynb",
   "parameters": {},
   "start_time": "2022-02-28T17:14:09.698278",
   "version": "2.3.3"
  }
 },
 "nbformat": 4,
 "nbformat_minor": 5
}
